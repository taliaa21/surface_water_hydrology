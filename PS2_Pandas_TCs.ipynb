{
  "nbformat": 4,
  "nbformat_minor": 0,
  "metadata": {
    "kernelspec": {
      "display_name": "Python 3",
      "language": "python",
      "name": "python3"
    },
    "language_info": {
      "codemirror_mode": {
        "name": "ipython",
        "version": 3
      },
      "file_extension": ".py",
      "mimetype": "text/x-python",
      "name": "python",
      "nbconvert_exporter": "python",
      "pygments_lexer": "ipython3",
      "version": "3.7.8"
    },
    "colab": {
      "name": "PS2_Pandas_TCs.ipynb",
      "provenance": [],
      "collapsed_sections": [],
      "include_colab_link": true
    }
  },
  "cells": [
    {
      "cell_type": "markdown",
      "metadata": {
        "id": "view-in-github",
        "colab_type": "text"
      },
      "source": [
        "<a href=\"https://colab.research.google.com/github/taliaa21/ce203/blob/main/PS2_Pandas_TCs.ipynb\" target=\"_parent\"><img src=\"https://colab.research.google.com/assets/colab-badge.svg\" alt=\"Open In Colab\"/></a>"
      ]
    },
    {
      "cell_type": "markdown",
      "metadata": {
        "id": "toPlQhOYMI6Y"
      },
      "source": [
        "# Problem Set 2: Pandas and Scikit-learn with Hurricane Data"
      ]
    },
    {
      "cell_type": "markdown",
      "metadata": {
        "id": "4NkAqhyIMI6e"
      },
      "source": [
        "Use the following code to load a CSV file of the [NOAA IBTrACS](https://www.ncdc.noaa.gov/ibtracs/index.php?name=ibtracs-data) hurricane dataset:"
      ]
    },
    {
      "cell_type": "code",
      "metadata": {
        "id": "_jfPcTRsGYm-"
      },
      "source": [
        "import pandas as pd"
      ],
      "execution_count": 29,
      "outputs": []
    },
    {
      "cell_type": "code",
      "metadata": {
        "id": "qsEz5KVhMI6f",
        "colab": {
          "base_uri": "https://localhost:8080/",
          "height": 204
        },
        "outputId": "dd9c8e30-e36c-4dd3-cff6-b22374aac51d"
      },
      "source": [
        "url = 'https://www.ncei.noaa.gov/data/international-best-track-archive-for-climate-stewardship-ibtracs/v04r00/access/csv/ibtracs.ALL.list.v04r00.csv'\n",
        "df = pd.read_csv(url, parse_dates=['ISO_TIME'], usecols=range(12),\n",
        "                 skiprows=[1], na_values=[' ', 'NOT_NAMED'],\n",
        "                 keep_default_na=False, dtype={'NAME': str})\n",
        "df.head()"
      ],
      "execution_count": 30,
      "outputs": [
        {
          "output_type": "execute_result",
          "data": {
            "text/html": [
              "<div>\n",
              "<style scoped>\n",
              "    .dataframe tbody tr th:only-of-type {\n",
              "        vertical-align: middle;\n",
              "    }\n",
              "\n",
              "    .dataframe tbody tr th {\n",
              "        vertical-align: top;\n",
              "    }\n",
              "\n",
              "    .dataframe thead th {\n",
              "        text-align: right;\n",
              "    }\n",
              "</style>\n",
              "<table border=\"1\" class=\"dataframe\">\n",
              "  <thead>\n",
              "    <tr style=\"text-align: right;\">\n",
              "      <th></th>\n",
              "      <th>SID</th>\n",
              "      <th>SEASON</th>\n",
              "      <th>NUMBER</th>\n",
              "      <th>BASIN</th>\n",
              "      <th>SUBBASIN</th>\n",
              "      <th>NAME</th>\n",
              "      <th>ISO_TIME</th>\n",
              "      <th>NATURE</th>\n",
              "      <th>LAT</th>\n",
              "      <th>LON</th>\n",
              "      <th>WMO_WIND</th>\n",
              "      <th>WMO_PRES</th>\n",
              "    </tr>\n",
              "  </thead>\n",
              "  <tbody>\n",
              "    <tr>\n",
              "      <th>0</th>\n",
              "      <td>1842298N11080</td>\n",
              "      <td>1842</td>\n",
              "      <td>1</td>\n",
              "      <td>NI</td>\n",
              "      <td>BB</td>\n",
              "      <td>NaN</td>\n",
              "      <td>1842-10-25 03:00:00</td>\n",
              "      <td>NR</td>\n",
              "      <td>10.9000</td>\n",
              "      <td>80.3000</td>\n",
              "      <td>NaN</td>\n",
              "      <td>NaN</td>\n",
              "    </tr>\n",
              "    <tr>\n",
              "      <th>1</th>\n",
              "      <td>1842298N11080</td>\n",
              "      <td>1842</td>\n",
              "      <td>1</td>\n",
              "      <td>NI</td>\n",
              "      <td>BB</td>\n",
              "      <td>NaN</td>\n",
              "      <td>1842-10-25 06:00:00</td>\n",
              "      <td>NR</td>\n",
              "      <td>10.8709</td>\n",
              "      <td>79.8265</td>\n",
              "      <td>NaN</td>\n",
              "      <td>NaN</td>\n",
              "    </tr>\n",
              "    <tr>\n",
              "      <th>2</th>\n",
              "      <td>1842298N11080</td>\n",
              "      <td>1842</td>\n",
              "      <td>1</td>\n",
              "      <td>NI</td>\n",
              "      <td>BB</td>\n",
              "      <td>NaN</td>\n",
              "      <td>1842-10-25 09:00:00</td>\n",
              "      <td>NR</td>\n",
              "      <td>10.8431</td>\n",
              "      <td>79.3524</td>\n",
              "      <td>NaN</td>\n",
              "      <td>NaN</td>\n",
              "    </tr>\n",
              "    <tr>\n",
              "      <th>3</th>\n",
              "      <td>1842298N11080</td>\n",
              "      <td>1842</td>\n",
              "      <td>1</td>\n",
              "      <td>NI</td>\n",
              "      <td>BB</td>\n",
              "      <td>NaN</td>\n",
              "      <td>1842-10-25 12:00:00</td>\n",
              "      <td>NR</td>\n",
              "      <td>10.8188</td>\n",
              "      <td>78.8772</td>\n",
              "      <td>NaN</td>\n",
              "      <td>NaN</td>\n",
              "    </tr>\n",
              "    <tr>\n",
              "      <th>4</th>\n",
              "      <td>1842298N11080</td>\n",
              "      <td>1842</td>\n",
              "      <td>1</td>\n",
              "      <td>NI</td>\n",
              "      <td>BB</td>\n",
              "      <td>NaN</td>\n",
              "      <td>1842-10-25 15:00:00</td>\n",
              "      <td>NR</td>\n",
              "      <td>10.8000</td>\n",
              "      <td>78.4000</td>\n",
              "      <td>NaN</td>\n",
              "      <td>NaN</td>\n",
              "    </tr>\n",
              "  </tbody>\n",
              "</table>\n",
              "</div>"
            ],
            "text/plain": [
              "             SID  SEASON  NUMBER BASIN  ...      LAT      LON WMO_WIND WMO_PRES\n",
              "0  1842298N11080    1842       1    NI  ...  10.9000  80.3000      NaN      NaN\n",
              "1  1842298N11080    1842       1    NI  ...  10.8709  79.8265      NaN      NaN\n",
              "2  1842298N11080    1842       1    NI  ...  10.8431  79.3524      NaN      NaN\n",
              "3  1842298N11080    1842       1    NI  ...  10.8188  78.8772      NaN      NaN\n",
              "4  1842298N11080    1842       1    NI  ...  10.8000  78.4000      NaN      NaN\n",
              "\n",
              "[5 rows x 12 columns]"
            ]
          },
          "metadata": {
            "tags": []
          },
          "execution_count": 30
        }
      ]
    },
    {
      "cell_type": "markdown",
      "metadata": {
        "id": "zLSBOx3oMI6f"
      },
      "source": [
        "Basin Key: (NI - North Indian, SI - South Indian, WP - Western Pacific, SP - Southern Pacific, EP - Eastern Pacific, NA - North Atlantic)"
      ]
    },
    {
      "cell_type": "markdown",
      "metadata": {
        "id": "TcjlIXYuMI6g"
      },
      "source": [
        "### 1) Get the unique values of the `BASIN`, `SUBBASIN`, and `NATURE` columns"
      ]
    },
    {
      "cell_type": "code",
      "metadata": {
        "id": "EYR0wnYEMI6g",
        "colab": {
          "base_uri": "https://localhost:8080/"
        },
        "outputId": "5ef22298-57b6-4b6d-dd75-1463b06d4e20"
      },
      "source": [
        "# Unique BASIN values\n",
        "df[\"BASIN\"].unique()"
      ],
      "execution_count": 31,
      "outputs": [
        {
          "output_type": "execute_result",
          "data": {
            "text/plain": [
              "array(['NI', 'SI', 'NA', 'EP', 'WP', 'SP', 'SA'], dtype=object)"
            ]
          },
          "metadata": {
            "tags": []
          },
          "execution_count": 31
        }
      ]
    },
    {
      "cell_type": "code",
      "metadata": {
        "id": "cRUahO0yMI6g",
        "colab": {
          "base_uri": "https://localhost:8080/"
        },
        "outputId": "047f622e-5f7e-4224-8e89-fef734bfc1d4"
      },
      "source": [
        "# Unique SUBBASIN values\n",
        "df[\"SUBBASIN\"].unique()"
      ],
      "execution_count": 32,
      "outputs": [
        {
          "output_type": "execute_result",
          "data": {
            "text/plain": [
              "array(['BB', 'AS', 'MM', 'GM', 'NA', 'CS', 'WA', 'EA', 'CP'], dtype=object)"
            ]
          },
          "metadata": {
            "tags": []
          },
          "execution_count": 32
        }
      ]
    },
    {
      "cell_type": "code",
      "metadata": {
        "id": "c3q5kqDOMI6h",
        "colab": {
          "base_uri": "https://localhost:8080/"
        },
        "outputId": "5b36eecd-37f9-47f0-ea4f-2c71f09cecc0"
      },
      "source": [
        "# Unique NATURE values\n",
        "df[\"NATURE\"].unique()"
      ],
      "execution_count": 33,
      "outputs": [
        {
          "output_type": "execute_result",
          "data": {
            "text/plain": [
              "array(['NR', 'TS', 'ET', 'SS', 'MX', 'DS'], dtype=object)"
            ]
          },
          "metadata": {
            "tags": []
          },
          "execution_count": 33
        }
      ]
    },
    {
      "cell_type": "markdown",
      "metadata": {
        "id": "e_hoQLoSMI6f"
      },
      "source": [
        "How many North Atlantic hurricanes are in this dataset?"
      ]
    },
    {
      "cell_type": "code",
      "metadata": {
        "id": "5cxeX86aMI6g",
        "colab": {
          "base_uri": "https://localhost:8080/"
        },
        "outputId": "9015a93d-2701-45b1-ce86-a93b63311f21"
      },
      "source": [
        "df[df[\"BASIN\"] == \"NA\"].shape[0]"
      ],
      "execution_count": 34,
      "outputs": [
        {
          "output_type": "execute_result",
          "data": {
            "text/plain": [
              "122315"
            ]
          },
          "metadata": {
            "tags": []
          },
          "execution_count": 34
        }
      ]
    },
    {
      "cell_type": "markdown",
      "metadata": {
        "id": "4p2r1ovPMI6h"
      },
      "source": [
        "### 2) Rename the `WMO_WIND` and `WMO_PRES` columns to `WIND` and `PRES`"
      ]
    },
    {
      "cell_type": "code",
      "metadata": {
        "id": "ucTl6EVuMI6h",
        "colab": {
          "base_uri": "https://localhost:8080/",
          "height": 204
        },
        "outputId": "5498766a-ad25-48aa-c2e6-61d6c5852890"
      },
      "source": [
        "df.rename(columns={\"WMO_WIND\": \"WIND\", \"WMO_PRES\": \"PRES\"}, inplace = True)\n",
        "df.head()"
      ],
      "execution_count": 35,
      "outputs": [
        {
          "output_type": "execute_result",
          "data": {
            "text/html": [
              "<div>\n",
              "<style scoped>\n",
              "    .dataframe tbody tr th:only-of-type {\n",
              "        vertical-align: middle;\n",
              "    }\n",
              "\n",
              "    .dataframe tbody tr th {\n",
              "        vertical-align: top;\n",
              "    }\n",
              "\n",
              "    .dataframe thead th {\n",
              "        text-align: right;\n",
              "    }\n",
              "</style>\n",
              "<table border=\"1\" class=\"dataframe\">\n",
              "  <thead>\n",
              "    <tr style=\"text-align: right;\">\n",
              "      <th></th>\n",
              "      <th>SID</th>\n",
              "      <th>SEASON</th>\n",
              "      <th>NUMBER</th>\n",
              "      <th>BASIN</th>\n",
              "      <th>SUBBASIN</th>\n",
              "      <th>NAME</th>\n",
              "      <th>ISO_TIME</th>\n",
              "      <th>NATURE</th>\n",
              "      <th>LAT</th>\n",
              "      <th>LON</th>\n",
              "      <th>WIND</th>\n",
              "      <th>PRES</th>\n",
              "    </tr>\n",
              "  </thead>\n",
              "  <tbody>\n",
              "    <tr>\n",
              "      <th>0</th>\n",
              "      <td>1842298N11080</td>\n",
              "      <td>1842</td>\n",
              "      <td>1</td>\n",
              "      <td>NI</td>\n",
              "      <td>BB</td>\n",
              "      <td>NaN</td>\n",
              "      <td>1842-10-25 03:00:00</td>\n",
              "      <td>NR</td>\n",
              "      <td>10.9000</td>\n",
              "      <td>80.3000</td>\n",
              "      <td>NaN</td>\n",
              "      <td>NaN</td>\n",
              "    </tr>\n",
              "    <tr>\n",
              "      <th>1</th>\n",
              "      <td>1842298N11080</td>\n",
              "      <td>1842</td>\n",
              "      <td>1</td>\n",
              "      <td>NI</td>\n",
              "      <td>BB</td>\n",
              "      <td>NaN</td>\n",
              "      <td>1842-10-25 06:00:00</td>\n",
              "      <td>NR</td>\n",
              "      <td>10.8709</td>\n",
              "      <td>79.8265</td>\n",
              "      <td>NaN</td>\n",
              "      <td>NaN</td>\n",
              "    </tr>\n",
              "    <tr>\n",
              "      <th>2</th>\n",
              "      <td>1842298N11080</td>\n",
              "      <td>1842</td>\n",
              "      <td>1</td>\n",
              "      <td>NI</td>\n",
              "      <td>BB</td>\n",
              "      <td>NaN</td>\n",
              "      <td>1842-10-25 09:00:00</td>\n",
              "      <td>NR</td>\n",
              "      <td>10.8431</td>\n",
              "      <td>79.3524</td>\n",
              "      <td>NaN</td>\n",
              "      <td>NaN</td>\n",
              "    </tr>\n",
              "    <tr>\n",
              "      <th>3</th>\n",
              "      <td>1842298N11080</td>\n",
              "      <td>1842</td>\n",
              "      <td>1</td>\n",
              "      <td>NI</td>\n",
              "      <td>BB</td>\n",
              "      <td>NaN</td>\n",
              "      <td>1842-10-25 12:00:00</td>\n",
              "      <td>NR</td>\n",
              "      <td>10.8188</td>\n",
              "      <td>78.8772</td>\n",
              "      <td>NaN</td>\n",
              "      <td>NaN</td>\n",
              "    </tr>\n",
              "    <tr>\n",
              "      <th>4</th>\n",
              "      <td>1842298N11080</td>\n",
              "      <td>1842</td>\n",
              "      <td>1</td>\n",
              "      <td>NI</td>\n",
              "      <td>BB</td>\n",
              "      <td>NaN</td>\n",
              "      <td>1842-10-25 15:00:00</td>\n",
              "      <td>NR</td>\n",
              "      <td>10.8000</td>\n",
              "      <td>78.4000</td>\n",
              "      <td>NaN</td>\n",
              "      <td>NaN</td>\n",
              "    </tr>\n",
              "  </tbody>\n",
              "</table>\n",
              "</div>"
            ],
            "text/plain": [
              "             SID  SEASON  NUMBER BASIN  ...      LAT      LON WIND PRES\n",
              "0  1842298N11080    1842       1    NI  ...  10.9000  80.3000  NaN  NaN\n",
              "1  1842298N11080    1842       1    NI  ...  10.8709  79.8265  NaN  NaN\n",
              "2  1842298N11080    1842       1    NI  ...  10.8431  79.3524  NaN  NaN\n",
              "3  1842298N11080    1842       1    NI  ...  10.8188  78.8772  NaN  NaN\n",
              "4  1842298N11080    1842       1    NI  ...  10.8000  78.4000  NaN  NaN\n",
              "\n",
              "[5 rows x 12 columns]"
            ]
          },
          "metadata": {
            "tags": []
          },
          "execution_count": 35
        }
      ]
    },
    {
      "cell_type": "markdown",
      "metadata": {
        "id": "PUCOVZqqMI6h"
      },
      "source": [
        "### 3) Get the 10 largest rows in the dataset by `WIND`"
      ]
    },
    {
      "cell_type": "code",
      "metadata": {
        "id": "u94U_ddQMI6h",
        "colab": {
          "base_uri": "https://localhost:8080/",
          "height": 359
        },
        "outputId": "e5aa2cc9-6278-40f2-a279-b4b841ae7c90"
      },
      "source": [
        "df.sort_values(by = \"WIND\", ascending = False).head(10)"
      ],
      "execution_count": 36,
      "outputs": [
        {
          "output_type": "execute_result",
          "data": {
            "text/html": [
              "<div>\n",
              "<style scoped>\n",
              "    .dataframe tbody tr th:only-of-type {\n",
              "        vertical-align: middle;\n",
              "    }\n",
              "\n",
              "    .dataframe tbody tr th {\n",
              "        vertical-align: top;\n",
              "    }\n",
              "\n",
              "    .dataframe thead th {\n",
              "        text-align: right;\n",
              "    }\n",
              "</style>\n",
              "<table border=\"1\" class=\"dataframe\">\n",
              "  <thead>\n",
              "    <tr style=\"text-align: right;\">\n",
              "      <th></th>\n",
              "      <th>SID</th>\n",
              "      <th>SEASON</th>\n",
              "      <th>NUMBER</th>\n",
              "      <th>BASIN</th>\n",
              "      <th>SUBBASIN</th>\n",
              "      <th>NAME</th>\n",
              "      <th>ISO_TIME</th>\n",
              "      <th>NATURE</th>\n",
              "      <th>LAT</th>\n",
              "      <th>LON</th>\n",
              "      <th>WIND</th>\n",
              "      <th>PRES</th>\n",
              "    </tr>\n",
              "  </thead>\n",
              "  <tbody>\n",
              "    <tr>\n",
              "      <th>665303</th>\n",
              "      <td>2015293N13266</td>\n",
              "      <td>2015</td>\n",
              "      <td>96</td>\n",
              "      <td>EP</td>\n",
              "      <td>MM</td>\n",
              "      <td>PATRICIA</td>\n",
              "      <td>2015-10-23 12:00:00</td>\n",
              "      <td>TS</td>\n",
              "      <td>17.3</td>\n",
              "      <td>-105.6</td>\n",
              "      <td>185.0</td>\n",
              "      <td>872.0</td>\n",
              "    </tr>\n",
              "    <tr>\n",
              "      <th>665305</th>\n",
              "      <td>2015293N13266</td>\n",
              "      <td>2015</td>\n",
              "      <td>96</td>\n",
              "      <td>EP</td>\n",
              "      <td>MM</td>\n",
              "      <td>PATRICIA</td>\n",
              "      <td>2015-10-23 18:00:00</td>\n",
              "      <td>TS</td>\n",
              "      <td>18.3</td>\n",
              "      <td>-105.3</td>\n",
              "      <td>180.0</td>\n",
              "      <td>878.0</td>\n",
              "    </tr>\n",
              "    <tr>\n",
              "      <th>665301</th>\n",
              "      <td>2015293N13266</td>\n",
              "      <td>2015</td>\n",
              "      <td>96</td>\n",
              "      <td>EP</td>\n",
              "      <td>MM</td>\n",
              "      <td>PATRICIA</td>\n",
              "      <td>2015-10-23 06:00:00</td>\n",
              "      <td>TS</td>\n",
              "      <td>16.5</td>\n",
              "      <td>-105.4</td>\n",
              "      <td>180.0</td>\n",
              "      <td>886.0</td>\n",
              "    </tr>\n",
              "    <tr>\n",
              "      <th>426786</th>\n",
              "      <td>1980214N11330</td>\n",
              "      <td>1980</td>\n",
              "      <td>57</td>\n",
              "      <td>NA</td>\n",
              "      <td>GM</td>\n",
              "      <td>ALLEN</td>\n",
              "      <td>1980-08-07 18:00:00</td>\n",
              "      <td>TS</td>\n",
              "      <td>21.8</td>\n",
              "      <td>-86.4</td>\n",
              "      <td>165.0</td>\n",
              "      <td>899.0</td>\n",
              "    </tr>\n",
              "    <tr>\n",
              "      <th>481224</th>\n",
              "      <td>1988253N12306</td>\n",
              "      <td>1988</td>\n",
              "      <td>74</td>\n",
              "      <td>NA</td>\n",
              "      <td>CS</td>\n",
              "      <td>GILBERT</td>\n",
              "      <td>1988-09-14 00:00:00</td>\n",
              "      <td>TS</td>\n",
              "      <td>19.7</td>\n",
              "      <td>-83.8</td>\n",
              "      <td>160.0</td>\n",
              "      <td>888.0</td>\n",
              "    </tr>\n",
              "    <tr>\n",
              "      <th>689016</th>\n",
              "      <td>2019236N10314</td>\n",
              "      <td>2019</td>\n",
              "      <td>52</td>\n",
              "      <td>NA</td>\n",
              "      <td>NA</td>\n",
              "      <td>DORIAN</td>\n",
              "      <td>2019-09-01 16:40:00</td>\n",
              "      <td>TS</td>\n",
              "      <td>26.5</td>\n",
              "      <td>-77.0</td>\n",
              "      <td>160.0</td>\n",
              "      <td>910.0</td>\n",
              "    </tr>\n",
              "    <tr>\n",
              "      <th>178211</th>\n",
              "      <td>1935241N23291</td>\n",
              "      <td>1935</td>\n",
              "      <td>46</td>\n",
              "      <td>NA</td>\n",
              "      <td>NA</td>\n",
              "      <td>NaN</td>\n",
              "      <td>1935-09-03 02:00:00</td>\n",
              "      <td>TS</td>\n",
              "      <td>24.8</td>\n",
              "      <td>-80.8</td>\n",
              "      <td>160.0</td>\n",
              "      <td>892.0</td>\n",
              "    </tr>\n",
              "    <tr>\n",
              "      <th>178213</th>\n",
              "      <td>1935241N23291</td>\n",
              "      <td>1935</td>\n",
              "      <td>46</td>\n",
              "      <td>NA</td>\n",
              "      <td>GM</td>\n",
              "      <td>NaN</td>\n",
              "      <td>1935-09-03 06:00:00</td>\n",
              "      <td>TS</td>\n",
              "      <td>25.1</td>\n",
              "      <td>-81.1</td>\n",
              "      <td>160.0</td>\n",
              "      <td>NaN</td>\n",
              "    </tr>\n",
              "    <tr>\n",
              "      <th>689017</th>\n",
              "      <td>2019236N10314</td>\n",
              "      <td>2019</td>\n",
              "      <td>52</td>\n",
              "      <td>NA</td>\n",
              "      <td>NA</td>\n",
              "      <td>DORIAN</td>\n",
              "      <td>2019-09-01 18:00:00</td>\n",
              "      <td>TS</td>\n",
              "      <td>26.5</td>\n",
              "      <td>-77.1</td>\n",
              "      <td>160.0</td>\n",
              "      <td>910.0</td>\n",
              "    </tr>\n",
              "    <tr>\n",
              "      <th>551609</th>\n",
              "      <td>1997253N12255</td>\n",
              "      <td>1997</td>\n",
              "      <td>81</td>\n",
              "      <td>EP</td>\n",
              "      <td>MM</td>\n",
              "      <td>LINDA</td>\n",
              "      <td>1997-09-12 06:00:00</td>\n",
              "      <td>TS</td>\n",
              "      <td>17.1</td>\n",
              "      <td>-109.6</td>\n",
              "      <td>160.0</td>\n",
              "      <td>902.0</td>\n",
              "    </tr>\n",
              "  </tbody>\n",
              "</table>\n",
              "</div>"
            ],
            "text/plain": [
              "                  SID  SEASON  NUMBER BASIN  ...   LAT    LON   WIND   PRES\n",
              "665303  2015293N13266    2015      96    EP  ...  17.3 -105.6  185.0  872.0\n",
              "665305  2015293N13266    2015      96    EP  ...  18.3 -105.3  180.0  878.0\n",
              "665301  2015293N13266    2015      96    EP  ...  16.5 -105.4  180.0  886.0\n",
              "426786  1980214N11330    1980      57    NA  ...  21.8  -86.4  165.0  899.0\n",
              "481224  1988253N12306    1988      74    NA  ...  19.7  -83.8  160.0  888.0\n",
              "689016  2019236N10314    2019      52    NA  ...  26.5  -77.0  160.0  910.0\n",
              "178211  1935241N23291    1935      46    NA  ...  24.8  -80.8  160.0  892.0\n",
              "178213  1935241N23291    1935      46    NA  ...  25.1  -81.1  160.0    NaN\n",
              "689017  2019236N10314    2019      52    NA  ...  26.5  -77.1  160.0  910.0\n",
              "551609  1997253N12255    1997      81    EP  ...  17.1 -109.6  160.0  902.0\n",
              "\n",
              "[10 rows x 12 columns]"
            ]
          },
          "metadata": {
            "tags": []
          },
          "execution_count": 36
        }
      ]
    },
    {
      "cell_type": "markdown",
      "metadata": {
        "id": "gfzU3Q1oMI6i"
      },
      "source": [
        "You will notice some names are repeated.\n",
        "\n",
        "### 4) Group the data on `SID` and get the 10 largest hurricanes by `WIND`"
      ]
    },
    {
      "cell_type": "code",
      "metadata": {
        "id": "WufjATQvMI6i",
        "colab": {
          "base_uri": "https://localhost:8080/"
        },
        "outputId": "af0b847b-c910-4f05-c135-f972afd265ff"
      },
      "source": [
        "df[[\"SID\", \"NAME\", \"WIND\"]].groupby(\"SID\").agg(max).sort_values(by = \"WIND\", ascending = False).head(10)[\"NAME\"]"
      ],
      "execution_count": 37,
      "outputs": [
        {
          "output_type": "execute_result",
          "data": {
            "text/plain": [
              "SID\n",
              "2015293N13266    PATRICIA\n",
              "1980214N11330       ALLEN\n",
              "1935241N23291         NaN\n",
              "1988253N12306     GILBERT\n",
              "1997253N12255       LINDA\n",
              "2005289N18282       WILMA\n",
              "2019236N10314      DORIAN\n",
              "2009288N07267        RICK\n",
              "2005261N21290        RITA\n",
              "2017242N16333        IRMA\n",
              "Name: NAME, dtype: object"
            ]
          },
          "metadata": {
            "tags": []
          },
          "execution_count": 37
        }
      ]
    },
    {
      "cell_type": "markdown",
      "metadata": {
        "id": "92hUMVuHMI6i"
      },
      "source": [
        "### 5) Make a bar chart of the wind speed of the 20 strongest-wind hurricanes\n",
        "\n",
        "Use the name on the x-axis."
      ]
    },
    {
      "cell_type": "code",
      "metadata": {
        "id": "wVHCwCAyMI6i",
        "colab": {
          "base_uri": "https://localhost:8080/",
          "height": 323
        },
        "outputId": "7f2e9f9f-58f8-407f-fd4d-5b7439af0fde"
      },
      "source": [
        "df.sort_values(by = \"WIND\", ascending = False).head(20).plot.bar(x=\"NAME\",y=\"WIND\");"
      ],
      "execution_count": 38,
      "outputs": [
        {
          "output_type": "display_data",
          "data": {
            "image/png": "[encoded data removed]",
            "text/plain": [
              "<Figure size 432x288 with 1 Axes>"
            ]
          },
          "metadata": {
            "tags": []
          }
        }
      ]
    },
    {
      "cell_type": "markdown",
      "metadata": {
        "id": "crsIhTLtMI6i"
      },
      "source": [
        "### 6) Plot the count of all datapoints by Basin as a bar chart"
      ]
    },
    {
      "cell_type": "code",
      "metadata": {
        "id": "0jYjnrV8MI6i",
        "colab": {
          "base_uri": "https://localhost:8080/",
          "height": 292
        },
        "outputId": "41221469-235c-41c8-f45f-8d19dcfdf958"
      },
      "source": [
        "df.groupby(\"BASIN\").size().plot.bar();"
      ],
      "execution_count": 39,
      "outputs": [
        {
          "output_type": "display_data",
          "data": {
            "image/png": "[encoded data removed]",
            "text/plain": [
              "<Figure size 432x288 with 1 Axes>"
            ]
          },
          "metadata": {
            "tags": []
          }
        }
      ]
    },
    {
      "cell_type": "markdown",
      "metadata": {
        "id": "S7Ievv_SMI6j"
      },
      "source": [
        "### 7) Plot the count of unique hurricanes by Basin as a bar chart."
      ]
    },
    {
      "cell_type": "code",
      "metadata": {
        "id": "zLaWKdiaMI6j",
        "colab": {
          "base_uri": "https://localhost:8080/",
          "height": 292
        },
        "outputId": "de4e932d-1567-41e8-99f8-1a7af65ff330"
      },
      "source": [
        "df.groupby(\"BASIN\")[\"NAME\"].nunique().plot.bar();"
      ],
      "execution_count": 40,
      "outputs": [
        {
          "output_type": "display_data",
          "data": {
            "image/png": "[encoded data removed]",
            "text/plain": [
              "<Figure size 432x288 with 1 Axes>"
            ]
          },
          "metadata": {
            "tags": []
          }
        }
      ]
    },
    {
      "cell_type": "markdown",
      "metadata": {
        "id": "6c8MRCNhMI6j"
      },
      "source": [
        "### 8) Make a `hexbin` of the location of datapoints in Latitude and Longitude. See [here](https://seaborn.pydata.org/examples/hexbin_marginals.html) for example"
      ]
    },
    {
      "cell_type": "code",
      "metadata": {
        "id": "xoIrK8MAa8_6"
      },
      "source": [
        "import seaborn as sns"
      ],
      "execution_count": 41,
      "outputs": []
    },
    {
      "cell_type": "code",
      "metadata": {
        "id": "03QwSuztMI6j",
        "colab": {
          "base_uri": "https://localhost:8080/",
          "height": 454
        },
        "outputId": "389d1a7e-f0cf-4b05-e5f1-5859a4cedb7e"
      },
      "source": [
        "lat = df[\"LAT\"].values\n",
        "lon = df[\"LON\"].values\n",
        "ax = sns.jointplot(x=lat, y=lon, kind=\"hex\", color=\"#4CB391\")\n",
        "ax.set_axis_labels(xlabel = \"Latitude\", ylabel = \"Longitude\");"
      ],
      "execution_count": 42,
      "outputs": [
        {
          "output_type": "display_data",
          "data": {
            "image/png": "[encoded data removed]",
            "text/plain": [
              "<Figure size 432x432 with 3 Axes>"
            ]
          },
          "metadata": {
            "tags": []
          }
        }
      ]
    },
    {
      "cell_type": "markdown",
      "metadata": {
        "id": "EHqNwmB9MI6j"
      },
      "source": [
        "### 9) Find Hurricane Katrina (from 2005) and plot its track as a scatter plot\n",
        "\n",
        "First find the SID of this hurricane."
      ]
    },
    {
      "cell_type": "code",
      "metadata": {
        "id": "4tA6rM1jMI6j",
        "colab": {
          "base_uri": "https://localhost:8080/",
          "height": 37
        },
        "outputId": "6437c730-5e06-473d-f81a-17ea7ece0ae3"
      },
      "source": [
        "katrina_sid = df[(df[\"NAME\"] == \"KATRINA\") & (df[\"SEASON\"] == 2005)][\"SID\"].unique()[0]\n",
        "katrina_sid"
      ],
      "execution_count": 43,
      "outputs": [
        {
          "output_type": "execute_result",
          "data": {
            "application/vnd.google.colaboratory.intrinsic+json": {
              "type": "string"
            },
            "text/plain": [
              "'2005236N23285'"
            ]
          },
          "metadata": {
            "tags": []
          },
          "execution_count": 43
        }
      ]
    },
    {
      "cell_type": "markdown",
      "metadata": {
        "id": "7AM4FfBjMI6j"
      },
      "source": [
        "Next get this hurricane's group and plot its position as a scatter plot. Use wind speed to color the points."
      ]
    },
    {
      "cell_type": "code",
      "metadata": {
        "id": "xd76dvXUMI6j",
        "colab": {
          "base_uri": "https://localhost:8080/",
          "height": 250
        },
        "outputId": "d8742ae6-2ee3-43af-eaf2-1930941e0c8e"
      },
      "source": [
        "df[df[\"SID\"] == katrina_sid].plot.scatter(x=\"LAT\", y=\"LON\", c=\"WIND\", colormap = \"plasma\");"
      ],
      "execution_count": 44,
      "outputs": [
        {
          "output_type": "display_data",
          "data": {
            "image/png": "[encoded data removed]",
            "text/plain": [
              "<Figure size 432x288 with 2 Axes>"
            ]
          },
          "metadata": {
            "tags": []
          }
        }
      ]
    },
    {
      "cell_type": "markdown",
      "metadata": {
        "id": "0SgYLF0VMI6k"
      },
      "source": [
        "### 10) Make time the index on your dataframe"
      ]
    },
    {
      "cell_type": "code",
      "metadata": {
        "id": "9xcIL0vNMI6k",
        "colab": {
          "base_uri": "https://localhost:8080/",
          "height": 235
        },
        "outputId": "8d917c49-7ddc-45b7-9a44-3a76dde1ec01"
      },
      "source": [
        "df.set_index(\"ISO_TIME\", inplace = True)\n",
        "df.head()"
      ],
      "execution_count": 45,
      "outputs": [
        {
          "output_type": "execute_result",
          "data": {
            "text/html": [
              "<div>\n",
              "<style scoped>\n",
              "    .dataframe tbody tr th:only-of-type {\n",
              "        vertical-align: middle;\n",
              "    }\n",
              "\n",
              "    .dataframe tbody tr th {\n",
              "        vertical-align: top;\n",
              "    }\n",
              "\n",
              "    .dataframe thead th {\n",
              "        text-align: right;\n",
              "    }\n",
              "</style>\n",
              "<table border=\"1\" class=\"dataframe\">\n",
              "  <thead>\n",
              "    <tr style=\"text-align: right;\">\n",
              "      <th></th>\n",
              "      <th>SID</th>\n",
              "      <th>SEASON</th>\n",
              "      <th>NUMBER</th>\n",
              "      <th>BASIN</th>\n",
              "      <th>SUBBASIN</th>\n",
              "      <th>NAME</th>\n",
              "      <th>NATURE</th>\n",
              "      <th>LAT</th>\n",
              "      <th>LON</th>\n",
              "      <th>WIND</th>\n",
              "      <th>PRES</th>\n",
              "    </tr>\n",
              "    <tr>\n",
              "      <th>ISO_TIME</th>\n",
              "      <th></th>\n",
              "      <th></th>\n",
              "      <th></th>\n",
              "      <th></th>\n",
              "      <th></th>\n",
              "      <th></th>\n",
              "      <th></th>\n",
              "      <th></th>\n",
              "      <th></th>\n",
              "      <th></th>\n",
              "      <th></th>\n",
              "    </tr>\n",
              "  </thead>\n",
              "  <tbody>\n",
              "    <tr>\n",
              "      <th>1842-10-25 03:00:00</th>\n",
              "      <td>1842298N11080</td>\n",
              "      <td>1842</td>\n",
              "      <td>1</td>\n",
              "      <td>NI</td>\n",
              "      <td>BB</td>\n",
              "      <td>NaN</td>\n",
              "      <td>NR</td>\n",
              "      <td>10.9000</td>\n",
              "      <td>80.3000</td>\n",
              "      <td>NaN</td>\n",
              "      <td>NaN</td>\n",
              "    </tr>\n",
              "    <tr>\n",
              "      <th>1842-10-25 06:00:00</th>\n",
              "      <td>1842298N11080</td>\n",
              "      <td>1842</td>\n",
              "      <td>1</td>\n",
              "      <td>NI</td>\n",
              "      <td>BB</td>\n",
              "      <td>NaN</td>\n",
              "      <td>NR</td>\n",
              "      <td>10.8709</td>\n",
              "      <td>79.8265</td>\n",
              "      <td>NaN</td>\n",
              "      <td>NaN</td>\n",
              "    </tr>\n",
              "    <tr>\n",
              "      <th>1842-10-25 09:00:00</th>\n",
              "      <td>1842298N11080</td>\n",
              "      <td>1842</td>\n",
              "      <td>1</td>\n",
              "      <td>NI</td>\n",
              "      <td>BB</td>\n",
              "      <td>NaN</td>\n",
              "      <td>NR</td>\n",
              "      <td>10.8431</td>\n",
              "      <td>79.3524</td>\n",
              "      <td>NaN</td>\n",
              "      <td>NaN</td>\n",
              "    </tr>\n",
              "    <tr>\n",
              "      <th>1842-10-25 12:00:00</th>\n",
              "      <td>1842298N11080</td>\n",
              "      <td>1842</td>\n",
              "      <td>1</td>\n",
              "      <td>NI</td>\n",
              "      <td>BB</td>\n",
              "      <td>NaN</td>\n",
              "      <td>NR</td>\n",
              "      <td>10.8188</td>\n",
              "      <td>78.8772</td>\n",
              "      <td>NaN</td>\n",
              "      <td>NaN</td>\n",
              "    </tr>\n",
              "    <tr>\n",
              "      <th>1842-10-25 15:00:00</th>\n",
              "      <td>1842298N11080</td>\n",
              "      <td>1842</td>\n",
              "      <td>1</td>\n",
              "      <td>NI</td>\n",
              "      <td>BB</td>\n",
              "      <td>NaN</td>\n",
              "      <td>NR</td>\n",
              "      <td>10.8000</td>\n",
              "      <td>78.4000</td>\n",
              "      <td>NaN</td>\n",
              "      <td>NaN</td>\n",
              "    </tr>\n",
              "  </tbody>\n",
              "</table>\n",
              "</div>"
            ],
            "text/plain": [
              "                               SID  SEASON  NUMBER  ...      LON WIND PRES\n",
              "ISO_TIME                                            ...                   \n",
              "1842-10-25 03:00:00  1842298N11080    1842       1  ...  80.3000  NaN  NaN\n",
              "1842-10-25 06:00:00  1842298N11080    1842       1  ...  79.8265  NaN  NaN\n",
              "1842-10-25 09:00:00  1842298N11080    1842       1  ...  79.3524  NaN  NaN\n",
              "1842-10-25 12:00:00  1842298N11080    1842       1  ...  78.8772  NaN  NaN\n",
              "1842-10-25 15:00:00  1842298N11080    1842       1  ...  78.4000  NaN  NaN\n",
              "\n",
              "[5 rows x 11 columns]"
            ]
          },
          "metadata": {
            "tags": []
          },
          "execution_count": 45
        }
      ]
    },
    {
      "cell_type": "markdown",
      "metadata": {
        "id": "FBVVzWRvMI6k"
      },
      "source": [
        "### 11) Plot the count of all datapoints per year as a timeseries\n",
        "\n",
        "You should use `resample` to yearly data\n"
      ]
    },
    {
      "cell_type": "code",
      "metadata": {
        "id": "QleuQR0AMI6k",
        "colab": {
          "base_uri": "https://localhost:8080/",
          "height": 285
        },
        "outputId": "80cb8fa2-9977-4717-bc36-ad27635b25ec"
      },
      "source": [
        "ax = df.groupby(\"SEASON\")[\"SID\"].count().plot()\n",
        "ax.set_xlabel(\"YEAR\");"
      ],
      "execution_count": 46,
      "outputs": [
        {
          "output_type": "display_data",
          "data": {
            "image/png": "[encoded data removed]",
            "text/plain": [
              "<Figure size 432x288 with 1 Axes>"
            ]
          },
          "metadata": {
            "tags": []
          }
        }
      ]
    },
    {
      "cell_type": "markdown",
      "metadata": {
        "id": "S-1JpaAmJxBG"
      },
      "source": [
        "###12) Create a  filtered Pandas dataframe consisting only of Atlantic tropical cyclones since 1979, ranging from tropical storms to hurricanes (see [link](https://www.ncei.noaa.gov/news/inventory-tropical-cyclone-tracks) for details on TC categories). Store this as a new dataframe, named NA_TCs"
      ]
    },
    {
      "cell_type": "code",
      "metadata": {
        "colab": {
          "base_uri": "https://localhost:8080/",
          "height": 235
        },
        "id": "3s6BlnWFidjF",
        "outputId": "6a8ec4aa-27bb-4add-fde9-8e20945cff3e"
      },
      "source": [
        "NA_TCs = df[(df[\"BASIN\"] == \"NA\") & (df[\"SEASON\"] >= 1979) & (df[\"WIND\"] >= (39/1.15078))]\n",
        "NA_TCs.head()"
      ],
      "execution_count": 47,
      "outputs": [
        {
          "output_type": "execute_result",
          "data": {
            "text/html": [
              "<div>\n",
              "<style scoped>\n",
              "    .dataframe tbody tr th:only-of-type {\n",
              "        vertical-align: middle;\n",
              "    }\n",
              "\n",
              "    .dataframe tbody tr th {\n",
              "        vertical-align: top;\n",
              "    }\n",
              "\n",
              "    .dataframe thead th {\n",
              "        text-align: right;\n",
              "    }\n",
              "</style>\n",
              "<table border=\"1\" class=\"dataframe\">\n",
              "  <thead>\n",
              "    <tr style=\"text-align: right;\">\n",
              "      <th></th>\n",
              "      <th>SID</th>\n",
              "      <th>SEASON</th>\n",
              "      <th>NUMBER</th>\n",
              "      <th>BASIN</th>\n",
              "      <th>SUBBASIN</th>\n",
              "      <th>NAME</th>\n",
              "      <th>NATURE</th>\n",
              "      <th>LAT</th>\n",
              "      <th>LON</th>\n",
              "      <th>WIND</th>\n",
              "      <th>PRES</th>\n",
              "    </tr>\n",
              "    <tr>\n",
              "      <th>ISO_TIME</th>\n",
              "      <th></th>\n",
              "      <th></th>\n",
              "      <th></th>\n",
              "      <th></th>\n",
              "      <th></th>\n",
              "      <th></th>\n",
              "      <th></th>\n",
              "      <th></th>\n",
              "      <th></th>\n",
              "      <th></th>\n",
              "      <th></th>\n",
              "    </tr>\n",
              "  </thead>\n",
              "  <tbody>\n",
              "    <tr>\n",
              "      <th>1979-06-22 00:00:00</th>\n",
              "      <td>1979171N10315</td>\n",
              "      <td>1979</td>\n",
              "      <td>45</td>\n",
              "      <td>NA</td>\n",
              "      <td>NA</td>\n",
              "      <td>ANA</td>\n",
              "      <td>TS</td>\n",
              "      <td>14.2</td>\n",
              "      <td>-54.7</td>\n",
              "      <td>35.0</td>\n",
              "      <td>1007.0</td>\n",
              "    </tr>\n",
              "    <tr>\n",
              "      <th>1979-06-22 06:00:00</th>\n",
              "      <td>1979171N10315</td>\n",
              "      <td>1979</td>\n",
              "      <td>45</td>\n",
              "      <td>NA</td>\n",
              "      <td>NA</td>\n",
              "      <td>ANA</td>\n",
              "      <td>TS</td>\n",
              "      <td>14.2</td>\n",
              "      <td>-55.8</td>\n",
              "      <td>40.0</td>\n",
              "      <td>1005.0</td>\n",
              "    </tr>\n",
              "    <tr>\n",
              "      <th>1979-06-22 12:00:00</th>\n",
              "      <td>1979171N10315</td>\n",
              "      <td>1979</td>\n",
              "      <td>45</td>\n",
              "      <td>NA</td>\n",
              "      <td>NA</td>\n",
              "      <td>ANA</td>\n",
              "      <td>TS</td>\n",
              "      <td>14.2</td>\n",
              "      <td>-56.9</td>\n",
              "      <td>50.0</td>\n",
              "      <td>1006.0</td>\n",
              "    </tr>\n",
              "    <tr>\n",
              "      <th>1979-06-22 18:00:00</th>\n",
              "      <td>1979171N10315</td>\n",
              "      <td>1979</td>\n",
              "      <td>45</td>\n",
              "      <td>NA</td>\n",
              "      <td>NA</td>\n",
              "      <td>ANA</td>\n",
              "      <td>TS</td>\n",
              "      <td>14.1</td>\n",
              "      <td>-58.3</td>\n",
              "      <td>40.0</td>\n",
              "      <td>1008.0</td>\n",
              "    </tr>\n",
              "    <tr>\n",
              "      <th>1979-06-23 00:00:00</th>\n",
              "      <td>1979171N10315</td>\n",
              "      <td>1979</td>\n",
              "      <td>45</td>\n",
              "      <td>NA</td>\n",
              "      <td>CS</td>\n",
              "      <td>ANA</td>\n",
              "      <td>TS</td>\n",
              "      <td>14.1</td>\n",
              "      <td>-59.8</td>\n",
              "      <td>35.0</td>\n",
              "      <td>1010.0</td>\n",
              "    </tr>\n",
              "  </tbody>\n",
              "</table>\n",
              "</div>"
            ],
            "text/plain": [
              "                               SID  SEASON  NUMBER  ...   LON  WIND    PRES\n",
              "ISO_TIME                                            ...                    \n",
              "1979-06-22 00:00:00  1979171N10315    1979      45  ... -54.7  35.0  1007.0\n",
              "1979-06-22 06:00:00  1979171N10315    1979      45  ... -55.8  40.0  1005.0\n",
              "1979-06-22 12:00:00  1979171N10315    1979      45  ... -56.9  50.0  1006.0\n",
              "1979-06-22 18:00:00  1979171N10315    1979      45  ... -58.3  40.0  1008.0\n",
              "1979-06-23 00:00:00  1979171N10315    1979      45  ... -59.8  35.0  1010.0\n",
              "\n",
              "[5 rows x 11 columns]"
            ]
          },
          "metadata": {
            "tags": []
          },
          "execution_count": 47
        }
      ]
    },
    {
      "cell_type": "markdown",
      "metadata": {
        "id": "3VEEkJK0MI6l"
      },
      "source": [
        "### 13) Plot the number of datapoints per day from this filtered dataframe\n",
        "\n",
        "Make sure you figure is big enough to actually see the plot"
      ]
    },
    {
      "cell_type": "code",
      "metadata": {
        "id": "pfa9mU_7MI6l",
        "colab": {
          "base_uri": "https://localhost:8080/",
          "height": 394
        },
        "outputId": "4272e026-c2aa-4cc2-81ff-3a82c942cd98"
      },
      "source": [
        "ax = NA_TCs.resample(\"D\")[\"SID\"].count().plot(figsize=(12, 6))\n",
        "ax.set_xlabel(\"DAY\");"
      ],
      "execution_count": 48,
      "outputs": [
        {
          "output_type": "display_data",
          "data": {
            "image/png": "[encoded data removed]",
            "text/plain": [
              "<Figure size 864x432 with 1 Axes>"
            ]
          },
          "metadata": {
            "tags": []
          }
        }
      ]
    },
    {
      "cell_type": "markdown",
      "metadata": {
        "id": "yc5xwhEqK9Td"
      },
      "source": [
        "###14) Using the categories based on wind speed, assign a class to each row in the dataframe, ranging from tropical cyclones through category 5 hurricanes"
      ]
    },
    {
      "cell_type": "code",
      "metadata": {
        "id": "YxpK5LVtooN1"
      },
      "source": [
        "import numpy as np"
      ],
      "execution_count": 49,
      "outputs": []
    },
    {
      "cell_type": "code",
      "metadata": {
        "id": "RyedIWefLZSY",
        "colab": {
          "base_uri": "https://localhost:8080/",
          "height": 439
        },
        "outputId": "10454b35-ad65-4192-f568-1dd35da0677d"
      },
      "source": [
        "TC_bins_mph = [38, 73, 95, 110, 130, 155, np.inf]\n",
        "TC_bins_knot = [i/1.15078 for i in TC_bins_mph]\n",
        "TC_labels = [\"tropical storm\", \"category 1\", \"category 2\", \"category 3\", \"category 4\", \"category 5\"]\n",
        "NA_TCs.loc[:, \"CLASS\"] = pd.cut(NA_TCs[\"WIND\"].values, TC_bins_knot, labels = TC_labels)\n",
        "NA_TCs.head()"
      ],
      "execution_count": 50,
      "outputs": [
        {
          "output_type": "stream",
          "text": [
            "/usr/local/lib/python3.7/dist-packages/pandas/core/indexing.py:1596: SettingWithCopyWarning: \n",
            "A value is trying to be set on a copy of a slice from a DataFrame.\n",
            "Try using .loc[row_indexer,col_indexer] = value instead\n",
            "\n",
            "See the caveats in the documentation: https://pandas.pydata.org/pandas-docs/stable/user_guide/indexing.html#returning-a-view-versus-a-copy\n",
            "  self.obj[key] = _infer_fill_value(value)\n",
            "/usr/local/lib/python3.7/dist-packages/pandas/core/indexing.py:1743: SettingWithCopyWarning: \n",
            "A value is trying to be set on a copy of a slice from a DataFrame.\n",
            "Try using .loc[row_indexer,col_indexer] = value instead\n",
            "\n",
            "See the caveats in the documentation: https://pandas.pydata.org/pandas-docs/stable/user_guide/indexing.html#returning-a-view-versus-a-copy\n",
            "  isetter(ilocs[0], value)\n"
          ],
          "name": "stderr"
        },
        {
          "output_type": "execute_result",
          "data": {
            "text/html": [
              "<div>\n",
              "<style scoped>\n",
              "    .dataframe tbody tr th:only-of-type {\n",
              "        vertical-align: middle;\n",
              "    }\n",
              "\n",
              "    .dataframe tbody tr th {\n",
              "        vertical-align: top;\n",
              "    }\n",
              "\n",
              "    .dataframe thead th {\n",
              "        text-align: right;\n",
              "    }\n",
              "</style>\n",
              "<table border=\"1\" class=\"dataframe\">\n",
              "  <thead>\n",
              "    <tr style=\"text-align: right;\">\n",
              "      <th></th>\n",
              "      <th>SID</th>\n",
              "      <th>SEASON</th>\n",
              "      <th>NUMBER</th>\n",
              "      <th>BASIN</th>\n",
              "      <th>SUBBASIN</th>\n",
              "      <th>NAME</th>\n",
              "      <th>NATURE</th>\n",
              "      <th>LAT</th>\n",
              "      <th>LON</th>\n",
              "      <th>WIND</th>\n",
              "      <th>PRES</th>\n",
              "      <th>CLASS</th>\n",
              "    </tr>\n",
              "    <tr>\n",
              "      <th>ISO_TIME</th>\n",
              "      <th></th>\n",
              "      <th></th>\n",
              "      <th></th>\n",
              "      <th></th>\n",
              "      <th></th>\n",
              "      <th></th>\n",
              "      <th></th>\n",
              "      <th></th>\n",
              "      <th></th>\n",
              "      <th></th>\n",
              "      <th></th>\n",
              "      <th></th>\n",
              "    </tr>\n",
              "  </thead>\n",
              "  <tbody>\n",
              "    <tr>\n",
              "      <th>1979-06-22 00:00:00</th>\n",
              "      <td>1979171N10315</td>\n",
              "      <td>1979</td>\n",
              "      <td>45</td>\n",
              "      <td>NA</td>\n",
              "      <td>NA</td>\n",
              "      <td>ANA</td>\n",
              "      <td>TS</td>\n",
              "      <td>14.2</td>\n",
              "      <td>-54.7</td>\n",
              "      <td>35.0</td>\n",
              "      <td>1007.0</td>\n",
              "      <td>tropical storm</td>\n",
              "    </tr>\n",
              "    <tr>\n",
              "      <th>1979-06-22 06:00:00</th>\n",
              "      <td>1979171N10315</td>\n",
              "      <td>1979</td>\n",
              "      <td>45</td>\n",
              "      <td>NA</td>\n",
              "      <td>NA</td>\n",
              "      <td>ANA</td>\n",
              "      <td>TS</td>\n",
              "      <td>14.2</td>\n",
              "      <td>-55.8</td>\n",
              "      <td>40.0</td>\n",
              "      <td>1005.0</td>\n",
              "      <td>tropical storm</td>\n",
              "    </tr>\n",
              "    <tr>\n",
              "      <th>1979-06-22 12:00:00</th>\n",
              "      <td>1979171N10315</td>\n",
              "      <td>1979</td>\n",
              "      <td>45</td>\n",
              "      <td>NA</td>\n",
              "      <td>NA</td>\n",
              "      <td>ANA</td>\n",
              "      <td>TS</td>\n",
              "      <td>14.2</td>\n",
              "      <td>-56.9</td>\n",
              "      <td>50.0</td>\n",
              "      <td>1006.0</td>\n",
              "      <td>tropical storm</td>\n",
              "    </tr>\n",
              "    <tr>\n",
              "      <th>1979-06-22 18:00:00</th>\n",
              "      <td>1979171N10315</td>\n",
              "      <td>1979</td>\n",
              "      <td>45</td>\n",
              "      <td>NA</td>\n",
              "      <td>NA</td>\n",
              "      <td>ANA</td>\n",
              "      <td>TS</td>\n",
              "      <td>14.1</td>\n",
              "      <td>-58.3</td>\n",
              "      <td>40.0</td>\n",
              "      <td>1008.0</td>\n",
              "      <td>tropical storm</td>\n",
              "    </tr>\n",
              "    <tr>\n",
              "      <th>1979-06-23 00:00:00</th>\n",
              "      <td>1979171N10315</td>\n",
              "      <td>1979</td>\n",
              "      <td>45</td>\n",
              "      <td>NA</td>\n",
              "      <td>CS</td>\n",
              "      <td>ANA</td>\n",
              "      <td>TS</td>\n",
              "      <td>14.1</td>\n",
              "      <td>-59.8</td>\n",
              "      <td>35.0</td>\n",
              "      <td>1010.0</td>\n",
              "      <td>tropical storm</td>\n",
              "    </tr>\n",
              "  </tbody>\n",
              "</table>\n",
              "</div>"
            ],
            "text/plain": [
              "                               SID  SEASON  ...    PRES           CLASS\n",
              "ISO_TIME                                    ...                        \n",
              "1979-06-22 00:00:00  1979171N10315    1979  ...  1007.0  tropical storm\n",
              "1979-06-22 06:00:00  1979171N10315    1979  ...  1005.0  tropical storm\n",
              "1979-06-22 12:00:00  1979171N10315    1979  ...  1006.0  tropical storm\n",
              "1979-06-22 18:00:00  1979171N10315    1979  ...  1008.0  tropical storm\n",
              "1979-06-23 00:00:00  1979171N10315    1979  ...  1010.0  tropical storm\n",
              "\n",
              "[5 rows x 12 columns]"
            ]
          },
          "metadata": {
            "tags": []
          },
          "execution_count": 50
        }
      ]
    },
    {
      "cell_type": "markdown",
      "metadata": {
        "id": "KNRqsIIyLZ39"
      },
      "source": [
        "###15) Create a histogram plot of the wind speed for all North Atlantic tropical cyclones"
      ]
    },
    {
      "cell_type": "code",
      "metadata": {
        "id": "OCIlNZifLkTP",
        "colab": {
          "base_uri": "https://localhost:8080/",
          "height": 285
        },
        "outputId": "760c1262-dc46-4994-82a3-2ad0b557dabf"
      },
      "source": [
        "ax = NA_TCs[\"WIND\"].plot.hist()\n",
        "ax.set_xlabel(\"WIND SPEED\");"
      ],
      "execution_count": 51,
      "outputs": [
        {
          "output_type": "display_data",
          "data": {
            "image/png": "[encoded data removed]",
            "text/plain": [
              "<Figure size 432x288 with 1 Axes>"
            ]
          },
          "metadata": {
            "tags": []
          }
        }
      ]
    },
    {
      "cell_type": "markdown",
      "metadata": {
        "id": "Xfe95ubVLlGn"
      },
      "source": [
        "###16) Create a scatter plot showing the relationship between wind speed and pressure for all NA tropical cyclones"
      ]
    },
    {
      "cell_type": "code",
      "metadata": {
        "id": "KemfWpI4LtaP",
        "colab": {
          "base_uri": "https://localhost:8080/",
          "height": 322
        },
        "outputId": "06e14042-aa4a-4c11-d4f6-41e22325cfc8"
      },
      "source": [
        "NA_TCs.plot.scatter(x=\"WIND\", y=\"PRES\");"
      ],
      "execution_count": 52,
      "outputs": [
        {
          "output_type": "stream",
          "text": [
            "*c* argument looks like a single numeric RGB or RGBA sequence, which should be avoided as value-mapping will have precedence in case its length matches with *x* & *y*.  Please use the *color* keyword-argument or provide a 2-D array with a single row if you intend to specify the same RGB or RGBA value for all points.\n"
          ],
          "name": "stderr"
        },
        {
          "output_type": "display_data",
          "data": {
            "image/png": "[encoded data removed]",
            "text/plain": [
              "<Figure size 432x288 with 1 Axes>"
            ]
          },
          "metadata": {
            "tags": []
          }
        }
      ]
    },
    {
      "cell_type": "markdown",
      "metadata": {
        "id": "ylXQY5YCibfn"
      },
      "source": [
        "###17) Fit a polynomial regression curve to fit a model to the speed vs. pressure data"
      ]
    },
    {
      "cell_type": "markdown",
      "metadata": {
        "id": "nacaSORiipWS"
      },
      "source": [
        "Use the following code from Scikit-learn"
      ]
    },
    {
      "cell_type": "code",
      "metadata": {
        "id": "6WLnwvfrhKcx"
      },
      "source": [
        "from sklearn.preprocessing import PolynomialFeatures\n",
        "from sklearn.linear_model import LinearRegression\n",
        "from sklearn.pipeline import make_pipeline\n",
        "from sklearn.model_selection import validation_curve\n",
        "\n",
        "def PolynomialRegression(degree=2, **kwargs):\n",
        "    return make_pipeline(PolynomialFeatures(degree),\n",
        "                         LinearRegression(**kwargs))"
      ],
      "execution_count": 53,
      "outputs": []
    },
    {
      "cell_type": "markdown",
      "metadata": {
        "id": "F0_5DsBai-Lf"
      },
      "source": [
        "Set the feature vector X and the target y in the following code. Recall the size of X should be [N samples, N_features] (the number of features here should be one) and the size of y should be [N samples,1]"
      ]
    },
    {
      "cell_type": "code",
      "metadata": {
        "id": "MNm-GPfgioTC",
        "colab": {
          "base_uri": "https://localhost:8080/"
        },
        "outputId": "cd88506d-cf5c-47f2-d3ce-f2ce038f296f"
      },
      "source": [
        "X = NA_TCs[NA_TCs.PRES.notnull()].WIND[:, np.newaxis]\n",
        "y = NA_TCs[NA_TCs.PRES.notnull()].PRES"
      ],
      "execution_count": 54,
      "outputs": [
        {
          "output_type": "stream",
          "text": [
            "/usr/local/lib/python3.7/dist-packages/ipykernel_launcher.py:1: FutureWarning: Support for multi-dimensional indexing (e.g. `obj[:, None]`) is deprecated and will be removed in a future version.  Convert to a numpy array before indexing instead.\n",
            "  \"\"\"Entry point for launching an IPython kernel.\n"
          ],
          "name": "stderr"
        }
      ]
    },
    {
      "cell_type": "code",
      "metadata": {
        "id": "9hcqlhtdhSwo",
        "colab": {
          "base_uri": "https://localhost:8080/",
          "height": 268
        },
        "outputId": "1702a372-e3f9-441c-81d7-ed78bd5d92fd"
      },
      "source": [
        "%matplotlib inline\n",
        "import matplotlib.pyplot as plt\n",
        "import seaborn; seaborn.set()  # plot formatting\n",
        "\n",
        "X_test = np.linspace(X.min(), X.max(), 500)[:, None]\n",
        "\n",
        "plt.scatter(X.ravel(), y, color='black')\n",
        "axis = plt.axis()\n",
        "for degree in [1, 2, 3, 4, 5]:\n",
        "    y_test = PolynomialRegression(degree).fit(X, y).predict(X_test)\n",
        "    plt.plot(X_test.ravel(), y_test, label='degree={0}'.format(degree))\n",
        "plt.legend(loc='best');"
      ],
      "execution_count": 55,
      "outputs": [
        {
          "output_type": "display_data",
          "data": {
            "image/png": "[encoded data removed]",
            "text/plain": [
              "<Figure size 432x288 with 1 Axes>"
            ]
          },
          "metadata": {
            "tags": []
          }
        }
      ]
    },
    {
      "cell_type": "markdown",
      "metadata": {
        "id": "euu5akTBkNim"
      },
      "source": [
        "Generate the training and validation curve for different polynomial degrees"
      ]
    },
    {
      "cell_type": "code",
      "metadata": {
        "id": "FJjohzT5gLYF",
        "colab": {
          "base_uri": "https://localhost:8080/",
          "height": 289
        },
        "outputId": "5a496be5-3953-43d4-debc-a7e4af810da5"
      },
      "source": [
        "degree = np.arange(0, 10)\n",
        "train_score, val_score = validation_curve(PolynomialRegression(), X, y,\n",
        "                                          'polynomialfeatures__degree', degree, cv=7)\n",
        "\n",
        "plt.plot(degree, np.median(train_score, 1), color='blue', label='training score')\n",
        "plt.plot(degree, np.median(val_score, 1), color='red', label='validation score')\n",
        "plt.legend(loc='best')\n",
        "plt.ylim(0, 1)\n",
        "plt.xlabel('degree')\n",
        "plt.ylabel('score');"
      ],
      "execution_count": 56,
      "outputs": [
        {
          "output_type": "display_data",
          "data": {
            "image/png": "[encoded data removed]",
            "text/plain": [
              "<Figure size 432x288 with 1 Axes>"
            ]
          },
          "metadata": {
            "tags": []
          }
        }
      ]
    },
    {
      "cell_type": "markdown",
      "metadata": {
        "id": "6MuYKH7-kcum"
      },
      "source": [
        "What do you think is the best choice for the polynomial degree? Could you make a physical argment for why one particular choice might be the best? Hint: recall dimensional analysis\n",
        "\n",
        "*Degree two is best, as the residuals are lower and the score is slightly higher than degree one. A physical argument is that wind speed squared is related to pressure by the Bernoulli equation. Additionally, lower degree models use less memory storage and have faster computations.*\n",
        " "
      ]
    },
    {
      "cell_type": "markdown",
      "metadata": {
        "id": "S_4vYNipnvJv"
      },
      "source": [
        "###18) Walk through [this Notebook](https://colab.research.google.com/drive/1lCRVOHgJ8gvEvQMLxFPwLcxGlSfQ8ui-?usp=sharing) that uses ERA5 data for pressure and Sea Surface Temperature distributions around tropical cyclone centers to train a ML model. Be sure to follow the PCA analysis and the random forest model setup. Discuss how well the Random Forest model performs in predicting the wind speed. How does it compare to your polynomial regression above? What may be some reasons for differences?\n",
        "\n",
        "*The random forest model is not very good at predicting wind speed, especially for category 1, 2, and 4 hurricanes. The extremely low average cross-validation score also supports this evaluation. The random forest model scores lower than the polynomial regression model for all tropical cyclones except for category 3 hurricanes. Random forest models are unable to predict time series trends, and that in conjunction with the fact that the data displays a linear trend, are reasons why the random forest model is worse than the polynomial regression model.*"
      ]
    },
    {
      "cell_type": "code",
      "metadata": {
        "id": "pcvUi_aZgwIK"
      },
      "source": [
        ""
      ],
      "execution_count": 56,
      "outputs": []
    }
  ]
}